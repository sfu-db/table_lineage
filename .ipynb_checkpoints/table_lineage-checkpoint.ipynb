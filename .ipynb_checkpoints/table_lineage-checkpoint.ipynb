{
 "cells": [
  {
   "cell_type": "code",
   "execution_count": 1,
   "id": "451f5f86",
   "metadata": {
    "pycharm": {
     "name": "#%%\n"
    }
   },
   "outputs": [],
   "source": [
    "%load_ext autoreload\n",
    "%autoreload 2\n",
    "from table_extraction import *\n",
    "cwd = os.getcwd()"
   ]
  },
  {
   "cell_type": "code",
   "execution_count": 5,
   "id": "dd7e5528",
   "metadata": {
    "pycharm": {
     "name": "#%%\n"
    },
    "scrolled": true
   },
   "outputs": [
    {
     "name": "stdout",
     "output_type": "stream",
     "text": [
      "gateway opened\n",
      "gateway tested\n",
      "database connected\n",
      "select subject_id,gender,dob from mimiciii_clinical.patients\n",
      "mimiciii_clinical.basic_patient_info not in\n",
      "created\n",
      "select subject_id,gender from mimiciii_clinical.basic_patient_info\n",
      "mimiciii_clinical.no_dob not in\n",
      "created\n",
      "mimiciii_clinical.no_dob dropped\n",
      "mimiciii_clinical.basic_patient_info dropped\n"
     ]
    },
    {
     "data": {
      "text/html": [
       "<div>\n",
       "<style scoped>\n",
       "    .dataframe tbody tr th:only-of-type {\n",
       "        vertical-align: middle;\n",
       "    }\n",
       "\n",
       "    .dataframe tbody tr th {\n",
       "        vertical-align: top;\n",
       "    }\n",
       "\n",
       "    .dataframe thead th {\n",
       "        text-align: right;\n",
       "    }\n",
       "</style>\n",
       "<table border=\"1\" class=\"dataframe\">\n",
       "  <thead>\n",
       "    <tr style=\"text-align: right;\">\n",
       "      <th></th>\n",
       "      <th>file</th>\n",
       "      <th>original sql</th>\n",
       "      <th>sql</th>\n",
       "      <th>tables</th>\n",
       "    </tr>\n",
       "  </thead>\n",
       "  <tbody>\n",
       "    <tr>\n",
       "      <th>0</th>\n",
       "      <td>basic_patient_info.sql</td>\n",
       "      <td>-- -------------------------------------------...</td>\n",
       "      <td>select subject_id,gender,dob from mimiciii_cli...</td>\n",
       "      <td>mimiciii_clinical.patients</td>\n",
       "    </tr>\n",
       "    <tr>\n",
       "      <th>1</th>\n",
       "      <td>no_dob.sql</td>\n",
       "      <td>SELECT subject_id, gender\\nFROM `physionet-dat...</td>\n",
       "      <td>select subject_id,gender from mimiciii_clinica...</td>\n",
       "      <td>mimiciii_clinical.basic_patient_info</td>\n",
       "    </tr>\n",
       "  </tbody>\n",
       "</table>\n",
       "</div>"
      ],
      "text/plain": [
       "                     file                                       original sql  \\\n",
       "0  basic_patient_info.sql  -- -------------------------------------------...   \n",
       "1              no_dob.sql  SELECT subject_id, gender\\nFROM `physionet-dat...   \n",
       "\n",
       "                                                 sql  \\\n",
       "0  select subject_id,gender,dob from mimiciii_cli...   \n",
       "1  select subject_id,gender from mimiciii_clinica...   \n",
       "\n",
       "                                 tables  \n",
       "0            mimiciii_clinical.patients  \n",
       "1  mimiciii_clinical.basic_patient_info  "
      ]
     },
     "execution_count": 5,
     "metadata": {},
     "output_type": "execute_result"
    }
   ],
   "source": [
    "df = table_extraction(\"postgresql://52.89.148.112:5432/mimic\", 'postgres', 'password', os.path.join(cwd, 'test_lineage'), \"mimiciii_clinical\")\n",
    "df"
   ]
  },
  {
   "cell_type": "code",
   "execution_count": null,
   "id": "341e165d",
   "metadata": {},
   "outputs": [],
   "source": []
  }
 ],
 "metadata": {
  "kernelspec": {
   "display_name": "Python 3",
   "language": "python",
   "name": "python3"
  },
  "language_info": {
   "codemirror_mode": {
    "name": "ipython",
    "version": 3
   },
   "file_extension": ".py",
   "mimetype": "text/x-python",
   "name": "python",
   "nbconvert_exporter": "python",
   "pygments_lexer": "ipython3",
   "version": "3.8.12"
  }
 },
 "nbformat": 4,
 "nbformat_minor": 5
}
