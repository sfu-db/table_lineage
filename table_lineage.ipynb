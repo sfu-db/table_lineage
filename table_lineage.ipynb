{
 "cells": [
  {
   "cell_type": "code",
   "execution_count": 25,
   "id": "451f5f86",
   "metadata": {
    "pycharm": {
     "name": "#%%\n"
    }
   },
   "outputs": [
    {
     "name": "stdout",
     "output_type": "stream",
     "text": [
      "The autoreload extension is already loaded. To reload it, use:\n",
      "  %reload_ext autoreload\n"
     ]
    }
   ],
   "source": [
    "%load_ext autoreload\n",
    "%autoreload 2\n",
    "from table_extraction import *\n",
    "cwd = os.getcwd()"
   ]
  },
  {
   "cell_type": "code",
   "execution_count": 26,
   "id": "dd7e5528",
   "metadata": {
    "pycharm": {
     "name": "#%%\n"
    }
   },
   "outputs": [
    {
     "name": "stdout",
     "output_type": "stream",
     "text": [
      "gateway opened\n",
      "gateway tested\n",
      "database connected\n",
      "/Users/apham/Documents/Projects/table_lineage/cookbook/mortality.sql mimiciii_clinical.admissions,mimiciii_clinical.patients\n",
      "/Users/apham/Documents/Projects/table_lineage/cookbook/icd9count.sql mimiciii_clinical.diagnoses_icd\n",
      "/Users/apham/Documents/Projects/table_lineage/cookbook/height.sql mimiciii_clinical.chartevents\n",
      "/Users/apham/Documents/Projects/table_lineage/cookbook/temp.sql mimiciii_clinical.chartevents,mimiciii_clinical.admissions,mimiciii_clinical.patients\n",
      "/Users/apham/Documents/Projects/table_lineage/cookbook/sbp.sql mimiciii_clinical.chartevents,mimiciii_clinical.admissions,mimiciii_clinical.patients\n",
      "/Users/apham/Documents/Projects/table_lineage/cookbook/wbc.sql mimiciii_clinical.labevents,mimiciii_clinical.admissions,mimiciii_clinical.patients\n",
      "/Users/apham/Documents/Projects/table_lineage/cookbook/icustay_days.sql mimiciii_clinical.icustays\n",
      "/Users/apham/Documents/Projects/table_lineage/cookbook/uo.sql mimiciii_clinical.outputevents,mimiciii_clinical.icustays,mimiciii_clinical.patients\n",
      "/Users/apham/Documents/Projects/table_lineage/cookbook/sodium.sql mimiciii_clinical.labevents,mimiciii_clinical.admissions,mimiciii_clinical.patients\n",
      "/Users/apham/Documents/Projects/table_lineage/cookbook/bun.sql mimiciii_clinical.labevents,mimiciii_clinical.admissions,mimiciii_clinical.patients\n",
      "/Users/apham/Documents/Projects/table_lineage/cookbook/hco.sql mimiciii_clinical.labevents,mimiciii_clinical.admissions,mimiciii_clinical.patients\n",
      "/Users/apham/Documents/Projects/table_lineage/cookbook/number_of_patients.sql mimiciii_clinical.patients\n",
      "/Users/apham/Documents/Projects/table_lineage/cookbook/icd9vicd9count.sql mimiciii_clinical.diagnoses_icd\n",
      "/Users/apham/Documents/Projects/table_lineage/cookbook/glucose.sql mimiciii_clinical.labevents,mimiciii_clinical.admissions,mimiciii_clinical.patients\n",
      "/Users/apham/Documents/Projects/table_lineage/cookbook/potassium.sql mimiciii_clinical.labevents,mimiciii_clinical.admissions,mimiciii_clinical.patients\n",
      "/Users/apham/Documents/Projects/table_lineage/cookbook/age_histogram.sql mimiciii_clinical.admissions,mimiciii_clinical.patients\n",
      "/Users/apham/Documents/Projects/table_lineage/cookbook/gcs.sql mimiciii_clinical.chartevents,mimiciii_clinical.admissions,mimiciii_clinical.patients\n",
      "/Users/apham/Documents/Projects/table_lineage/cookbook/rr.sql mimiciii_clinical.chartevents,mimiciii_clinical.admissions,mimiciii_clinical.patients\n",
      "/Users/apham/Documents/Projects/table_lineage/cookbook/heart_rate.sql mimiciii_clinical.chartevents,mimiciii_clinical.admissions,mimiciii_clinical.patients\n",
      "/Users/apham/Documents/Projects/table_lineage/cookbook/icd9vicd9agelimited.sql mimiciii_clinical.diagnoses_icd,mimiciii_clinical.admissions,mimiciii_clinical.patients\n",
      "/Users/apham/Documents/Projects/table_lineage/cookbook/basic_patient_info.sql mimiciii_clinical.patients\n",
      "/Users/apham/Documents/Projects/table_lineage/cookbook/min_surviving_bp.sql mimiciii_clinical.chartevents,mimiciii_clinical.admissions,mimiciii_clinical.patients\n",
      "/Users/apham/Documents/Projects/table_lineage/cookbook/icd9agelimited.sql mimiciii_clinical.diagnoses_icd,mimiciii_clinical.admissions,mimiciii_clinical.patients\n",
      "/Users/apham/Documents/Projects/table_lineage/cookbook/icd9vagehistogram.sql mimiciii_clinical.diagnoses_icd,mimiciii_clinical.admissions,mimiciii_clinical.patients\n"
     ]
    },
    {
     "data": {
      "text/plain": "                       file  \\\n0             mortality.sql   \n1             icd9count.sql   \n2                height.sql   \n3                  temp.sql   \n4                   sbp.sql   \n5                   wbc.sql   \n6          icustay_days.sql   \n7                    uo.sql   \n8                sodium.sql   \n9                   bun.sql   \n10                  hco.sql   \n11   number_of_patients.sql   \n12       icd9vicd9count.sql   \n13              glucose.sql   \n14            potassium.sql   \n15        age_histogram.sql   \n16                  gcs.sql   \n17                   rr.sql   \n18           heart_rate.sql   \n19  icd9vicd9agelimited.sql   \n20   basic_patient_info.sql   \n21     min_surviving_bp.sql   \n22       icd9agelimited.sql   \n23    icd9vagehistogram.sql   \n\n                                         original sql  \\\n0   -- -------------------------------------------...   \n1   -- -------------------------------------------...   \n2   -- -------------------------------------------...   \n3   -- -------------------------------------------...   \n4   -- -------------------------------------------...   \n5   -- -------------------------------------------...   \n6   \\n-- -----------------------------------------...   \n7   -- -------------------------------------------...   \n8   -- -------------------------------------------...   \n9   -- -------------------------------------------...   \n10  -- -------------------------------------------...   \n11  -- -------------------------------------------...   \n12  -- -------------------------------------------...   \n13  -- -------------------------------------------...   \n14  -- -------------------------------------------...   \n15  -- -------------------------------------------...   \n16  -- -------------------------------------------...   \n17  -- -------------------------------------------...   \n18  -- -------------------------------------------...   \n19  -- -------------------------------------------...   \n20  -- -------------------------------------------...   \n21  -- -------------------------------------------...   \n22  -- -------------------------------------------...   \n23  -- -------------------------------------------...   \n\n                                                  sql  \\\n0   with tmp as ( select adm.hadm_id,admittime,dis...   \n1   select count(distinct subject_id) as \"hyperten...   \n2   with ht as ( select valuenum,ntile(200) as buc...   \n3   with agetbl as ( select ad.subject_id from mim...   \n4   with agetbl as ( select ad.subject_id from mim...   \n5   with agetbl as ( select ad.subject_id from mim...   \n6   with dayseq as ( select icustay_id,intime,outt...   \n7   with agetbl as ( select ie.icustay_id,ie.intim...   \n8   with agetbl as ( select ad.subject_id from mim...   \n9   with agetbl as ( select ad.subject_id from mim...   \n10  with agetbl as ( select ad.subject_id from mim...   \n11    select count(*) from mimiciii_clinical.patients   \n12  select count(distinct a.subject_id) as \"obesit...   \n13  with agetbl as ( select ad.subject_id from mim...   \n14  with agetbl as ( select ad.subject_id from mim...   \n15  with agetbl as ( select timestampdiff(year,ad....   \n16  with agetbl as ( select ad.subject_id from mim...   \n17  with agetbl as ( select ad.subject_id from mim...   \n18  with agetbl as ( select ad.subject_id from mim...   \n19  with agetbl as ( select ad.subject_id from mim...   \n20  select subject_id,gender,dob from mimiciii_cli...   \n21  with agetbl as ( select ad.subject_id from mim...   \n22  with agetbl as ( select ad.subject_id from mim...   \n23  with diatbl as ( select dia.subject_id,ad.admi...   \n\n                                               tables  \n0   mimiciii_clinical.admissions,mimiciii_clinical...  \n1                     mimiciii_clinical.diagnoses_icd  \n2                       mimiciii_clinical.chartevents  \n3   mimiciii_clinical.chartevents,mimiciii_clinica...  \n4   mimiciii_clinical.chartevents,mimiciii_clinica...  \n5   mimiciii_clinical.labevents,mimiciii_clinical....  \n6                          mimiciii_clinical.icustays  \n7   mimiciii_clinical.outputevents,mimiciii_clinic...  \n8   mimiciii_clinical.labevents,mimiciii_clinical....  \n9   mimiciii_clinical.labevents,mimiciii_clinical....  \n10  mimiciii_clinical.labevents,mimiciii_clinical....  \n11                         mimiciii_clinical.patients  \n12                    mimiciii_clinical.diagnoses_icd  \n13  mimiciii_clinical.labevents,mimiciii_clinical....  \n14  mimiciii_clinical.labevents,mimiciii_clinical....  \n15  mimiciii_clinical.admissions,mimiciii_clinical...  \n16  mimiciii_clinical.chartevents,mimiciii_clinica...  \n17  mimiciii_clinical.chartevents,mimiciii_clinica...  \n18  mimiciii_clinical.chartevents,mimiciii_clinica...  \n19  mimiciii_clinical.diagnoses_icd,mimiciii_clini...  \n20                         mimiciii_clinical.patients  \n21  mimiciii_clinical.chartevents,mimiciii_clinica...  \n22  mimiciii_clinical.diagnoses_icd,mimiciii_clini...  \n23  mimiciii_clinical.diagnoses_icd,mimiciii_clini...  ",
      "text/html": "<div>\n<style scoped>\n    .dataframe tbody tr th:only-of-type {\n        vertical-align: middle;\n    }\n\n    .dataframe tbody tr th {\n        vertical-align: top;\n    }\n\n    .dataframe thead th {\n        text-align: right;\n    }\n</style>\n<table border=\"1\" class=\"dataframe\">\n  <thead>\n    <tr style=\"text-align: right;\">\n      <th></th>\n      <th>file</th>\n      <th>original sql</th>\n      <th>sql</th>\n      <th>tables</th>\n    </tr>\n  </thead>\n  <tbody>\n    <tr>\n      <th>0</th>\n      <td>mortality.sql</td>\n      <td>-- -------------------------------------------...</td>\n      <td>with tmp as ( select adm.hadm_id,admittime,dis...</td>\n      <td>mimiciii_clinical.admissions,mimiciii_clinical...</td>\n    </tr>\n    <tr>\n      <th>1</th>\n      <td>icd9count.sql</td>\n      <td>-- -------------------------------------------...</td>\n      <td>select count(distinct subject_id) as \"hyperten...</td>\n      <td>mimiciii_clinical.diagnoses_icd</td>\n    </tr>\n    <tr>\n      <th>2</th>\n      <td>height.sql</td>\n      <td>-- -------------------------------------------...</td>\n      <td>with ht as ( select valuenum,ntile(200) as buc...</td>\n      <td>mimiciii_clinical.chartevents</td>\n    </tr>\n    <tr>\n      <th>3</th>\n      <td>temp.sql</td>\n      <td>-- -------------------------------------------...</td>\n      <td>with agetbl as ( select ad.subject_id from mim...</td>\n      <td>mimiciii_clinical.chartevents,mimiciii_clinica...</td>\n    </tr>\n    <tr>\n      <th>4</th>\n      <td>sbp.sql</td>\n      <td>-- -------------------------------------------...</td>\n      <td>with agetbl as ( select ad.subject_id from mim...</td>\n      <td>mimiciii_clinical.chartevents,mimiciii_clinica...</td>\n    </tr>\n    <tr>\n      <th>5</th>\n      <td>wbc.sql</td>\n      <td>-- -------------------------------------------...</td>\n      <td>with agetbl as ( select ad.subject_id from mim...</td>\n      <td>mimiciii_clinical.labevents,mimiciii_clinical....</td>\n    </tr>\n    <tr>\n      <th>6</th>\n      <td>icustay_days.sql</td>\n      <td>\\n-- -----------------------------------------...</td>\n      <td>with dayseq as ( select icustay_id,intime,outt...</td>\n      <td>mimiciii_clinical.icustays</td>\n    </tr>\n    <tr>\n      <th>7</th>\n      <td>uo.sql</td>\n      <td>-- -------------------------------------------...</td>\n      <td>with agetbl as ( select ie.icustay_id,ie.intim...</td>\n      <td>mimiciii_clinical.outputevents,mimiciii_clinic...</td>\n    </tr>\n    <tr>\n      <th>8</th>\n      <td>sodium.sql</td>\n      <td>-- -------------------------------------------...</td>\n      <td>with agetbl as ( select ad.subject_id from mim...</td>\n      <td>mimiciii_clinical.labevents,mimiciii_clinical....</td>\n    </tr>\n    <tr>\n      <th>9</th>\n      <td>bun.sql</td>\n      <td>-- -------------------------------------------...</td>\n      <td>with agetbl as ( select ad.subject_id from mim...</td>\n      <td>mimiciii_clinical.labevents,mimiciii_clinical....</td>\n    </tr>\n    <tr>\n      <th>10</th>\n      <td>hco.sql</td>\n      <td>-- -------------------------------------------...</td>\n      <td>with agetbl as ( select ad.subject_id from mim...</td>\n      <td>mimiciii_clinical.labevents,mimiciii_clinical....</td>\n    </tr>\n    <tr>\n      <th>11</th>\n      <td>number_of_patients.sql</td>\n      <td>-- -------------------------------------------...</td>\n      <td>select count(*) from mimiciii_clinical.patients</td>\n      <td>mimiciii_clinical.patients</td>\n    </tr>\n    <tr>\n      <th>12</th>\n      <td>icd9vicd9count.sql</td>\n      <td>-- -------------------------------------------...</td>\n      <td>select count(distinct a.subject_id) as \"obesit...</td>\n      <td>mimiciii_clinical.diagnoses_icd</td>\n    </tr>\n    <tr>\n      <th>13</th>\n      <td>glucose.sql</td>\n      <td>-- -------------------------------------------...</td>\n      <td>with agetbl as ( select ad.subject_id from mim...</td>\n      <td>mimiciii_clinical.labevents,mimiciii_clinical....</td>\n    </tr>\n    <tr>\n      <th>14</th>\n      <td>potassium.sql</td>\n      <td>-- -------------------------------------------...</td>\n      <td>with agetbl as ( select ad.subject_id from mim...</td>\n      <td>mimiciii_clinical.labevents,mimiciii_clinical....</td>\n    </tr>\n    <tr>\n      <th>15</th>\n      <td>age_histogram.sql</td>\n      <td>-- -------------------------------------------...</td>\n      <td>with agetbl as ( select timestampdiff(year,ad....</td>\n      <td>mimiciii_clinical.admissions,mimiciii_clinical...</td>\n    </tr>\n    <tr>\n      <th>16</th>\n      <td>gcs.sql</td>\n      <td>-- -------------------------------------------...</td>\n      <td>with agetbl as ( select ad.subject_id from mim...</td>\n      <td>mimiciii_clinical.chartevents,mimiciii_clinica...</td>\n    </tr>\n    <tr>\n      <th>17</th>\n      <td>rr.sql</td>\n      <td>-- -------------------------------------------...</td>\n      <td>with agetbl as ( select ad.subject_id from mim...</td>\n      <td>mimiciii_clinical.chartevents,mimiciii_clinica...</td>\n    </tr>\n    <tr>\n      <th>18</th>\n      <td>heart_rate.sql</td>\n      <td>-- -------------------------------------------...</td>\n      <td>with agetbl as ( select ad.subject_id from mim...</td>\n      <td>mimiciii_clinical.chartevents,mimiciii_clinica...</td>\n    </tr>\n    <tr>\n      <th>19</th>\n      <td>icd9vicd9agelimited.sql</td>\n      <td>-- -------------------------------------------...</td>\n      <td>with agetbl as ( select ad.subject_id from mim...</td>\n      <td>mimiciii_clinical.diagnoses_icd,mimiciii_clini...</td>\n    </tr>\n    <tr>\n      <th>20</th>\n      <td>basic_patient_info.sql</td>\n      <td>-- -------------------------------------------...</td>\n      <td>select subject_id,gender,dob from mimiciii_cli...</td>\n      <td>mimiciii_clinical.patients</td>\n    </tr>\n    <tr>\n      <th>21</th>\n      <td>min_surviving_bp.sql</td>\n      <td>-- -------------------------------------------...</td>\n      <td>with agetbl as ( select ad.subject_id from mim...</td>\n      <td>mimiciii_clinical.chartevents,mimiciii_clinica...</td>\n    </tr>\n    <tr>\n      <th>22</th>\n      <td>icd9agelimited.sql</td>\n      <td>-- -------------------------------------------...</td>\n      <td>with agetbl as ( select ad.subject_id from mim...</td>\n      <td>mimiciii_clinical.diagnoses_icd,mimiciii_clini...</td>\n    </tr>\n    <tr>\n      <th>23</th>\n      <td>icd9vagehistogram.sql</td>\n      <td>-- -------------------------------------------...</td>\n      <td>with diatbl as ( select dia.subject_id,ad.admi...</td>\n      <td>mimiciii_clinical.diagnoses_icd,mimiciii_clini...</td>\n    </tr>\n  </tbody>\n</table>\n</div>"
     },
     "execution_count": 26,
     "metadata": {},
     "output_type": "execute_result"
    }
   ],
   "source": [
    "df, table_dict = table_extraction(\"postgresql://52.89.148.112:5432/mimic\", 'postgres', 'password', os.path.join(cwd, 'cookbook'))\n",
    "df"
   ]
  }
 ],
 "metadata": {
  "kernelspec": {
   "display_name": "Python 3 (ipykernel)",
   "language": "python",
   "name": "python3"
  },
  "language_info": {
   "codemirror_mode": {
    "name": "ipython",
    "version": 3
   },
   "file_extension": ".py",
   "mimetype": "text/x-python",
   "name": "python",
   "nbconvert_exporter": "python",
   "pygments_lexer": "ipython3",
   "version": "3.8.0"
  }
 },
 "nbformat": 4,
 "nbformat_minor": 5
}